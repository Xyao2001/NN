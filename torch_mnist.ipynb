{
  "cells": [
    {
      "cell_type": "markdown",
      "metadata": {
        "id": "view-in-github",
        "colab_type": "text"
      },
      "source": [
        "<a href=\"https://colab.research.google.com/github/Xyao2001/NN/blob/main/torch_mnist.ipynb\" target=\"_parent\"><img src=\"https://colab.research.google.com/assets/colab-badge.svg\" alt=\"Open In Colab\"/></a>"
      ]
    },
    {
      "cell_type": "code",
      "execution_count": 1,
      "metadata": {
        "id": "l5Rq0Ue3wHx3"
      },
      "outputs": [],
      "source": [
        "import torch\n",
        "import torchvision ## Contains some utilities for working with the image data\n",
        "from torchvision.datasets import MNIST\n",
        "import matplotlib.pyplot as plt\n",
        "#%matplotlib inline\n",
        "import torchvision.transforms as transforms\n",
        "from torch.utils.data import random_split\n",
        "from torch.utils.data import DataLoader\n",
        "import torch.nn.functional as F"
      ]
    },
    {
      "cell_type": "code",
      "execution_count": 2,
      "metadata": {
        "colab": {
          "base_uri": "https://localhost:8080/",
          "height": 843
        },
        "id": "CFlSyxOowHx5",
        "outputId": "0faa595b-93a7-411b-ec14-53395bcc802c"
      },
      "outputs": [
        {
          "output_type": "stream",
          "name": "stdout",
          "text": [
            "Downloading http://yann.lecun.com/exdb/mnist/train-images-idx3-ubyte.gz\n",
            "Downloading http://yann.lecun.com/exdb/mnist/train-images-idx3-ubyte.gz to data/MNIST/raw/train-images-idx3-ubyte.gz\n"
          ]
        },
        {
          "output_type": "stream",
          "name": "stderr",
          "text": [
            "100%|██████████| 9912422/9912422 [00:00<00:00, 123023261.56it/s]\n"
          ]
        },
        {
          "output_type": "stream",
          "name": "stdout",
          "text": [
            "Extracting data/MNIST/raw/train-images-idx3-ubyte.gz to data/MNIST/raw\n",
            "\n",
            "Downloading http://yann.lecun.com/exdb/mnist/train-labels-idx1-ubyte.gz\n",
            "Downloading http://yann.lecun.com/exdb/mnist/train-labels-idx1-ubyte.gz to data/MNIST/raw/train-labels-idx1-ubyte.gz\n"
          ]
        },
        {
          "output_type": "stream",
          "name": "stderr",
          "text": [
            "100%|██████████| 28881/28881 [00:00<00:00, 91561370.99it/s]\n"
          ]
        },
        {
          "output_type": "stream",
          "name": "stdout",
          "text": [
            "Extracting data/MNIST/raw/train-labels-idx1-ubyte.gz to data/MNIST/raw\n",
            "\n",
            "Downloading http://yann.lecun.com/exdb/mnist/t10k-images-idx3-ubyte.gz\n",
            "Downloading http://yann.lecun.com/exdb/mnist/t10k-images-idx3-ubyte.gz to data/MNIST/raw/t10k-images-idx3-ubyte.gz\n"
          ]
        },
        {
          "output_type": "stream",
          "name": "stderr",
          "text": [
            "100%|██████████| 1648877/1648877 [00:00<00:00, 116907405.66it/s]"
          ]
        },
        {
          "output_type": "stream",
          "name": "stdout",
          "text": [
            "Extracting data/MNIST/raw/t10k-images-idx3-ubyte.gz to data/MNIST/raw\n"
          ]
        },
        {
          "output_type": "stream",
          "name": "stderr",
          "text": [
            "\n"
          ]
        },
        {
          "output_type": "stream",
          "name": "stdout",
          "text": [
            "\n",
            "Downloading http://yann.lecun.com/exdb/mnist/t10k-labels-idx1-ubyte.gz\n",
            "Downloading http://yann.lecun.com/exdb/mnist/t10k-labels-idx1-ubyte.gz to data/MNIST/raw/t10k-labels-idx1-ubyte.gz\n"
          ]
        },
        {
          "output_type": "stream",
          "name": "stderr",
          "text": [
            "100%|██████████| 4542/4542 [00:00<00:00, 4582758.90it/s]"
          ]
        },
        {
          "output_type": "stream",
          "name": "stdout",
          "text": [
            "Extracting data/MNIST/raw/t10k-labels-idx1-ubyte.gz to data/MNIST/raw\n",
            "\n"
          ]
        },
        {
          "output_type": "stream",
          "name": "stderr",
          "text": [
            "\n"
          ]
        },
        {
          "output_type": "stream",
          "name": "stdout",
          "text": [
            "60000\n",
            "Label: 3\n"
          ]
        },
        {
          "output_type": "display_data",
          "data": {
            "text/plain": [
              "<Figure size 640x480 with 1 Axes>"
            ],
            "image/png": "[encoded data removed]"
          },
          "metadata": {}
        }
      ],
      "source": [
        "dataset = MNIST(root = 'data/', download = True)\n",
        "print(len(dataset))\n",
        "image, label = dataset[10]\n",
        "plt.imshow(image, cmap = 'gray')\n",
        "print('Label:', label)\n",
        "\n",
        "#The values range from 0 to 1, with 0 representing black, 1 white and the values between different shades of grey. We can also plot the tensor as an image using lt.imshow\n"
      ]
    },
    {
      "cell_type": "code",
      "execution_count": 3,
      "metadata": {
        "colab": {
          "base_uri": "https://localhost:8080/"
        },
        "id": "UdZ7cJX_wHx6",
        "outputId": "a79d84ff-8c46-4e4b-e065-b8a61c03fb8e"
      },
      "outputs": [
        {
          "output_type": "stream",
          "name": "stdout",
          "text": [
            "Dataset MNIST\n",
            "    Number of datapoints: 60000\n",
            "    Root location: data/\n",
            "    Split: Train\n",
            "    StandardTransform\n",
            "Transform: ToTensor()\n",
            "torch.Size([1, 28, 28]) 5\n"
          ]
        }
      ],
      "source": [
        "mnist_dataset = MNIST(root = 'data/', train = True, transform = transforms.ToTensor())\n",
        "print(mnist_dataset)\n",
        "image_tensor, label = mnist_dataset[0]\n",
        "\n",
        "#\n",
        "#The image is now convert to a 28 X 28 tensor.The first dimension is used to keep track of the color channels. Since images in the MNIST dataset are grayscale, there's just one channel. Other datasets have images with color, in that case the color channels would be 3(Red, Green, Blue).\n",
        "print(image_tensor.shape, label)"
      ]
    },
    {
      "cell_type": "markdown",
      "metadata": {
        "id": "YUZGW6TNwHx6"
      },
      "source": [
        "An image tensor is a multi-dimensional array or data structure used to represent an image in a format that can be processed by machine learning models or computer vision algorithms. In the context of deep learning, an image tensor is typically a multi-dimensional array with three or four dimensions, depending on the color representation."
      ]
    },
    {
      "cell_type": "code",
      "execution_count": 4,
      "metadata": {
        "colab": {
          "base_uri": "https://localhost:8080/",
          "height": 555
        },
        "id": "HwVr74YzwHx7",
        "outputId": "95e792d2-04f1-46c9-cede-a76c24b805c7"
      },
      "outputs": [
        {
          "output_type": "stream",
          "name": "stdout",
          "text": [
            "tensor([[[0.0039, 0.6039, 0.9922, 0.3529, 0.0000],\n",
            "         [0.0000, 0.5451, 0.9922, 0.7451, 0.0078],\n",
            "         [0.0000, 0.0431, 0.7451, 0.9922, 0.2745],\n",
            "         [0.0000, 0.0000, 0.1373, 0.9451, 0.8824],\n",
            "         [0.0000, 0.0000, 0.0000, 0.3176, 0.9412]]])\n",
            "tensor(1.) tensor(0.)\n"
          ]
        },
        {
          "output_type": "execute_result",
          "data": {
            "text/plain": [
              "<matplotlib.image.AxesImage at 0x7a7696fceec0>"
            ]
          },
          "metadata": {},
          "execution_count": 4
        },
        {
          "output_type": "display_data",
          "data": {
            "text/plain": [
              "<Figure size 640x480 with 1 Axes>"
            ],
            "image/png": "[encoded data removed]"
          },
          "metadata": {}
        }
      ],
      "source": [
        "print(image_tensor[:,10:15,10:15])\n",
        "print(torch.max(image_tensor), torch.min(image_tensor))\n",
        "\n",
        "plt.imshow(image_tensor[0,10:15,10:15],cmap = 'gray')"
      ]
    },
    {
      "cell_type": "code",
      "execution_count": 5,
      "metadata": {
        "colab": {
          "base_uri": "https://localhost:8080/"
        },
        "id": "CnBi3YvkwHx8",
        "outputId": "03c28d97-2e5e-4d87-eed9-2a3c5a756eb4"
      },
      "outputs": [
        {
          "output_type": "stream",
          "name": "stdout",
          "text": [
            "length of Train Datasets:  50000\n",
            "length of Validation Datasets:  10000\n"
          ]
        }
      ],
      "source": [
        "train_data, validation_data = random_split(mnist_dataset, [50000, 10000])\n",
        "## Print the length of train and validation datasets\n",
        "print(\"length of Train Datasets: \", len(train_data))\n",
        "print(\"length of Validation Datasets: \", len(validation_data))"
      ]
    },
    {
      "cell_type": "code",
      "execution_count": 6,
      "metadata": {
        "id": "FoRxyrrGwHx8"
      },
      "outputs": [],
      "source": [
        "batch_size = 128\n",
        "train_loader = DataLoader(train_data, batch_size, shuffle = True)\n",
        "#randomization helps in generalizing and speed up the process.\n",
        "#e we will use DataLoaders to help us load the data in batches\n",
        "val_loader = DataLoader(validation_data, batch_size, shuffle = False)"
      ]
    },
    {
      "cell_type": "code",
      "execution_count": 7,
      "metadata": {
        "colab": {
          "base_uri": "https://localhost:8080/"
        },
        "id": "XsyZYJkWwHx8",
        "outputId": "74df4bf0-2205-4389-f1d8-422f83a68361"
      },
      "outputs": [
        {
          "output_type": "stream",
          "name": "stdout",
          "text": [
            "torch.Size([10, 784])\n",
            "Parameter containing:\n",
            "tensor([[ 0.0301, -0.0340, -0.0076,  ...,  0.0101,  0.0129,  0.0335],\n",
            "        [ 0.0356,  0.0287, -0.0323,  ...,  0.0176, -0.0052, -0.0211],\n",
            "        [ 0.0033, -0.0228, -0.0156,  ..., -0.0320, -0.0231, -0.0038],\n",
            "        ...,\n",
            "        [-0.0086,  0.0240,  0.0265,  ..., -0.0026, -0.0222,  0.0047],\n",
            "        [ 0.0095,  0.0177,  0.0271,  ..., -0.0088, -0.0155,  0.0050],\n",
            "        [-0.0239,  0.0262, -0.0158,  ..., -0.0021,  0.0308,  0.0055]],\n",
            "       requires_grad=True)\n",
            "torch.Size([10])\n",
            "Parameter containing:\n",
            "tensor([-0.0099,  0.0142,  0.0098, -0.0283, -0.0051,  0.0183,  0.0238, -0.0147,\n",
            "         0.0265,  0.0122], requires_grad=True)\n"
          ]
        }
      ],
      "source": [
        "import torch.nn as nn\n",
        "\n",
        "input_size = 28 * 28\n",
        "num_classes = 10\n",
        "\n",
        "## Logistic regression model\n",
        "#Logistic Regression model is identical to a linear regression model\n",
        "# i.e, there are weights and bias matrices, and the output is obtained using simple matrix operations(pred = x@ w.t() + b).\n",
        "model = nn.Linear(input_size, num_classes)\n",
        "\n",
        "print(model.weight.shape)\n",
        "print(model.weight)\n",
        "print(model.bias.shape)\n",
        "print(model.bias)\n"
      ]
    },
    {
      "cell_type": "code",
      "execution_count": 8,
      "metadata": {
        "colab": {
          "base_uri": "https://localhost:8080/"
        },
        "id": "F25RwtoUwHx8",
        "outputId": "bf93d3ed-e5c9-4fcc-dcf1-937655951c57"
      },
      "outputs": [
        {
          "output_type": "stream",
          "name": "stdout",
          "text": [
            "torch.Size([500, 784]) torch.Size([500])\n"
          ]
        },
        {
          "output_type": "execute_result",
          "data": {
            "text/plain": [
              "[Parameter containing:\n",
              " tensor([[ 0.0174,  0.0354, -0.0130,  ...,  0.0189,  0.0178,  0.0197],\n",
              "         [-0.0012,  0.0044,  0.0037,  ...,  0.0096, -0.0344,  0.0038],\n",
              "         [-0.0256, -0.0238, -0.0191,  ...,  0.0319, -0.0306,  0.0016],\n",
              "         ...,\n",
              "         [-0.0076,  0.0267,  0.0142,  ..., -0.0197,  0.0094,  0.0018],\n",
              "         [ 0.0075, -0.0352,  0.0074,  ..., -0.0150, -0.0225,  0.0167],\n",
              "         [-0.0187,  0.0233,  0.0092,  ...,  0.0185,  0.0231,  0.0070]],\n",
              "        requires_grad=True),\n",
              " Parameter containing:\n",
              " tensor([ 3.1766e-02,  2.9018e-02,  2.5555e-02, -2.2031e-02,  2.6725e-03,\n",
              "         -1.7199e-02,  2.7267e-02,  7.9820e-03,  3.3732e-02,  9.1157e-03,\n",
              "          1.9087e-02,  1.8376e-02,  7.2138e-04,  1.3581e-02,  8.2656e-03,\n",
              "         -2.6124e-02,  2.2241e-02,  2.6596e-05,  3.4631e-02,  3.1141e-02,\n",
              "          1.0718e-03, -2.6743e-02,  2.3324e-02,  1.3387e-02, -3.5529e-02,\n",
              "          3.5140e-02, -6.9996e-03, -2.0051e-02, -1.1267e-02,  9.2644e-03,\n",
              "          1.7978e-02,  3.1839e-02,  1.4653e-02, -2.1387e-02, -1.3567e-02,\n",
              "         -3.8977e-03, -1.6200e-02, -2.2853e-02,  1.7460e-02,  3.4952e-02,\n",
              "          3.4849e-02,  1.4608e-03, -1.7722e-02, -6.7072e-03,  5.8352e-03,\n",
              "         -1.3701e-02,  8.1167e-03, -8.8481e-03,  1.2273e-02, -1.1686e-02,\n",
              "         -3.1297e-02,  1.7435e-02,  1.9282e-02,  3.2255e-02,  8.9768e-03,\n",
              "          2.1608e-02, -1.7415e-02,  1.0554e-02, -1.1339e-02,  8.1003e-03,\n",
              "          2.4601e-02, -5.0262e-03,  2.7368e-02, -1.3836e-02,  1.3290e-02,\n",
              "          1.2354e-02,  2.8335e-02, -1.0323e-02, -2.0822e-02,  1.1066e-03,\n",
              "          1.9988e-02, -2.6886e-03,  1.1207e-02,  1.1582e-02,  3.4884e-02,\n",
              "         -1.5700e-02,  1.4728e-02, -2.5863e-02, -6.6849e-03,  7.2667e-04,\n",
              "          5.1542e-03, -8.9004e-03,  3.3011e-02,  5.7403e-03,  2.7718e-02,\n",
              "          1.3041e-02,  1.4592e-02, -4.5240e-03,  7.9146e-03, -1.5075e-02,\n",
              "         -3.1059e-02,  3.1258e-03, -3.5699e-02,  1.2275e-02, -2.1887e-02,\n",
              "         -3.1726e-02,  2.3279e-02, -1.2373e-02,  3.0551e-02,  1.4535e-02,\n",
              "         -1.6956e-02,  2.6120e-02,  7.9489e-03,  2.0386e-02,  3.0924e-02,\n",
              "         -2.6477e-03, -2.0187e-02, -1.3179e-02,  1.0894e-02,  1.6558e-02,\n",
              "         -3.0560e-02, -3.2792e-02,  7.1708e-03, -8.9273e-03, -3.4694e-02,\n",
              "          1.8912e-02,  3.4709e-03,  8.9078e-03, -2.6081e-03, -2.0864e-02,\n",
              "          3.0741e-02,  4.3376e-03,  1.0456e-03, -2.0448e-02,  3.4560e-02,\n",
              "          3.4304e-02,  1.3042e-02,  4.7856e-03, -3.4782e-02, -2.2013e-02,\n",
              "         -1.3391e-02,  8.3061e-03,  5.0992e-03, -9.2879e-03,  1.2177e-02,\n",
              "          2.5395e-02,  4.9328e-03, -1.8071e-02, -3.5521e-03,  7.8968e-03,\n",
              "         -2.2875e-02,  2.4562e-02, -2.9471e-02, -9.1935e-03, -2.5533e-02,\n",
              "         -8.1857e-03,  2.7316e-02, -1.2279e-02,  6.9780e-03, -1.0188e-02,\n",
              "          1.2093e-02,  2.2451e-02, -8.5864e-03, -1.7256e-02, -1.6480e-02,\n",
              "          3.0830e-02,  2.3287e-02,  3.3793e-03,  2.4587e-02, -1.9651e-02,\n",
              "          2.2652e-02, -1.4565e-02,  3.8198e-03,  1.4209e-02,  1.5226e-02,\n",
              "         -3.4688e-02, -1.3254e-02,  3.1477e-03, -3.1612e-02,  8.0363e-04,\n",
              "         -2.5410e-03,  2.7515e-02, -3.3893e-02,  3.4539e-02, -3.0634e-02,\n",
              "          5.5413e-03, -1.6857e-02,  8.4705e-03, -3.2703e-02,  1.5469e-02,\n",
              "          1.3526e-02,  1.0435e-03,  2.1310e-02,  6.1223e-03,  1.8524e-02,\n",
              "          6.2311e-03, -1.0756e-02, -3.1615e-02, -3.3227e-02, -1.0500e-02,\n",
              "         -1.0546e-02, -1.9704e-03,  3.1687e-03, -1.8804e-02,  2.4779e-02,\n",
              "          2.4667e-02,  3.1628e-03,  1.7608e-02, -3.0355e-02,  1.2036e-02,\n",
              "          1.9926e-03,  1.5418e-02, -2.7762e-02,  3.1777e-02, -3.2467e-02,\n",
              "         -1.2933e-02, -2.9003e-02, -9.5845e-03, -7.7877e-03,  2.4132e-02,\n",
              "          2.8046e-02,  1.4022e-02, -2.1471e-02,  2.6309e-02,  6.9712e-03,\n",
              "         -3.1818e-02,  7.0093e-04, -2.2314e-02, -2.5762e-02,  2.3739e-02,\n",
              "         -1.4255e-02,  6.4798e-03,  1.2807e-02,  2.7288e-02, -8.3477e-03,\n",
              "         -3.0627e-02, -2.9407e-02,  1.7025e-02,  2.4696e-02,  2.0326e-02,\n",
              "          2.1567e-02,  5.8044e-03, -2.2967e-02,  1.5712e-02,  1.9468e-02,\n",
              "         -4.7278e-03,  2.1252e-02, -3.3848e-03, -1.1471e-02, -4.6602e-03,\n",
              "          1.5368e-02, -2.0255e-02,  2.6867e-02,  1.6051e-02, -1.8255e-02,\n",
              "         -1.4649e-02,  1.2098e-02,  1.1355e-02,  2.7041e-03,  1.9591e-02,\n",
              "          1.2836e-02, -1.5068e-02, -5.3413e-03, -1.5391e-02,  4.5162e-03,\n",
              "         -2.0901e-02, -3.5031e-02, -1.5034e-02, -2.3713e-02,  1.6102e-02,\n",
              "          3.4438e-02,  3.3442e-02,  1.9534e-02, -2.3232e-02, -1.8740e-03,\n",
              "         -3.0005e-02,  2.5085e-02, -1.2670e-02, -1.6806e-02,  1.3345e-02,\n",
              "         -3.4682e-02, -2.4607e-02,  1.8889e-02, -7.6104e-03,  3.3496e-02,\n",
              "         -6.4254e-03,  1.5570e-02,  2.4945e-02,  3.2611e-02, -2.0376e-02,\n",
              "          2.7774e-02, -2.8998e-03, -2.5618e-02,  7.1680e-03,  4.5976e-03,\n",
              "          2.7432e-02, -4.9791e-03,  1.4802e-02, -2.8742e-02,  1.8101e-02,\n",
              "          2.3465e-02, -3.1906e-02,  3.2678e-02, -5.2104e-03, -1.2297e-02,\n",
              "         -4.5748e-03,  1.3708e-02,  3.4325e-02, -1.5579e-02, -1.6577e-02,\n",
              "          1.9955e-02,  3.0291e-02,  3.5458e-02,  2.1655e-02,  2.0304e-02,\n",
              "         -1.4817e-02, -4.8894e-03, -2.4341e-02, -2.7393e-02, -2.3335e-02,\n",
              "          6.8178e-03,  2.8241e-02, -1.8410e-02,  2.0730e-02, -2.1219e-02,\n",
              "          2.1385e-02,  1.0022e-02,  2.8763e-02,  3.3471e-02, -3.2722e-02,\n",
              "          2.2919e-02,  7.6433e-03, -1.4443e-02,  1.4216e-02,  1.0148e-03,\n",
              "          3.4631e-02,  3.3358e-02,  1.4477e-02, -1.4945e-03, -2.7280e-02,\n",
              "         -1.3440e-02,  2.9573e-02,  2.1830e-02, -2.1536e-02,  5.3186e-04,\n",
              "          2.1196e-02,  2.7374e-02, -4.8254e-03,  1.7171e-02, -1.4401e-02,\n",
              "          2.8705e-02,  3.0069e-02,  1.2395e-03, -2.4308e-02,  1.5164e-02,\n",
              "         -1.7830e-02, -1.8884e-02,  2.2062e-02,  1.0927e-02, -3.4942e-02,\n",
              "         -3.4045e-02,  2.6730e-03,  5.8957e-03, -2.2803e-03,  1.5810e-02,\n",
              "         -1.6076e-02,  2.9652e-02, -1.5614e-02, -2.4370e-02, -1.6846e-02,\n",
              "         -2.6755e-02,  1.0395e-02,  2.0809e-02, -3.4679e-02,  1.8777e-02,\n",
              "         -2.3422e-02,  1.9735e-02, -2.0247e-02,  1.4644e-02,  2.8712e-02,\n",
              "          2.0822e-02, -2.7992e-02,  1.8494e-02,  2.4948e-02, -3.0934e-02,\n",
              "         -1.8966e-02,  2.4019e-03, -1.3923e-03,  2.8073e-02,  2.9609e-02,\n",
              "         -7.4465e-03, -2.9747e-02,  1.3277e-02,  2.6352e-02,  1.8155e-02,\n",
              "         -2.5026e-02, -2.7647e-02,  2.4841e-02, -2.5247e-02,  8.8112e-03,\n",
              "          1.9079e-02, -2.4175e-02,  1.8411e-02,  3.1875e-02,  2.8892e-02,\n",
              "          7.7370e-03,  3.0537e-02, -1.1383e-02,  9.3587e-03,  1.7914e-02,\n",
              "          1.0560e-02,  1.5076e-02, -1.8099e-03, -2.8297e-02,  1.4478e-02,\n",
              "          1.7450e-02,  1.1191e-02,  7.2346e-04,  2.2326e-02,  2.4813e-02,\n",
              "          2.0820e-02, -2.4515e-02, -1.9720e-02,  3.3921e-02,  2.4603e-02,\n",
              "         -3.5024e-02,  3.5067e-02, -1.0809e-02,  6.6579e-03,  4.3479e-03,\n",
              "          2.8338e-02, -1.1873e-02, -3.2573e-02,  2.7478e-02, -1.5874e-02,\n",
              "          3.1413e-02, -2.1755e-02,  9.1227e-04, -2.5803e-03,  2.4240e-02,\n",
              "         -1.4831e-02, -1.0631e-02, -2.8798e-02, -1.3753e-02, -2.2185e-02,\n",
              "          1.2332e-03,  3.4384e-02,  2.0592e-02,  2.3256e-02,  1.2930e-02,\n",
              "          1.8201e-02,  6.6688e-04, -1.1419e-02,  1.7298e-02,  3.3339e-02,\n",
              "         -5.9612e-03, -2.6899e-02,  1.7022e-02,  3.4833e-02,  2.0236e-02,\n",
              "          3.2833e-02, -3.0960e-02, -2.9409e-02,  1.2556e-02,  1.8052e-02,\n",
              "         -2.1463e-02,  2.3670e-02,  1.3895e-02, -1.9560e-02,  3.4964e-02,\n",
              "         -3.4560e-02, -2.1587e-02,  1.5342e-02,  5.5023e-03, -1.5834e-02,\n",
              "          2.1099e-02, -3.1401e-02, -2.9073e-02,  9.1130e-03, -2.9741e-02,\n",
              "         -2.1622e-02,  3.3654e-02, -6.5258e-03, -1.5970e-02, -2.1876e-02,\n",
              "         -3.3911e-02, -5.9782e-03, -1.1770e-02,  1.4779e-02, -1.7294e-02,\n",
              "         -1.9679e-02,  2.5990e-02, -2.8383e-02,  1.5363e-02,  2.4339e-02,\n",
              "          2.4166e-02,  3.2425e-02, -5.5741e-03, -1.2130e-02, -3.1378e-02,\n",
              "         -2.1668e-02,  1.9972e-02, -3.5200e-02, -9.8919e-03, -2.9519e-02,\n",
              "          3.1230e-02,  1.8902e-02, -2.4041e-02, -1.9967e-02,  3.1401e-03],\n",
              "        requires_grad=True),\n",
              " Parameter containing:\n",
              " tensor([[-0.0228,  0.0308, -0.0065,  ..., -0.0066,  0.0134,  0.0028],\n",
              "         [ 0.0115, -0.0037, -0.0206,  ...,  0.0099,  0.0271, -0.0403],\n",
              "         [-0.0323,  0.0066, -0.0410,  ..., -0.0435,  0.0005,  0.0171],\n",
              "         ...,\n",
              "         [ 0.0192,  0.0263, -0.0308,  ...,  0.0179,  0.0360, -0.0369],\n",
              "         [ 0.0183,  0.0240, -0.0226,  ..., -0.0386, -0.0198, -0.0317],\n",
              "         [ 0.0071, -0.0446,  0.0272,  ...,  0.0262, -0.0148,  0.0260]],\n",
              "        requires_grad=True),\n",
              " Parameter containing:\n",
              " tensor([ 0.0165, -0.0256,  0.0427,  0.0171,  0.0042,  0.0015,  0.0121, -0.0309,\n",
              "          0.0053,  0.0395,  0.0059, -0.0170, -0.0357, -0.0279, -0.0017, -0.0154,\n",
              "          0.0365, -0.0095,  0.0203,  0.0090, -0.0033, -0.0122, -0.0436, -0.0372,\n",
              "          0.0338, -0.0052,  0.0350, -0.0415,  0.0398,  0.0076,  0.0366, -0.0212,\n",
              "          0.0365, -0.0361,  0.0127,  0.0233, -0.0140,  0.0428,  0.0226,  0.0293,\n",
              "          0.0016,  0.0074,  0.0082, -0.0443, -0.0115, -0.0064,  0.0197,  0.0356,\n",
              "         -0.0014,  0.0394,  0.0349, -0.0110,  0.0079,  0.0239,  0.0343,  0.0287,\n",
              "         -0.0074, -0.0315,  0.0248,  0.0239,  0.0059, -0.0374,  0.0220,  0.0441,\n",
              "         -0.0336, -0.0169, -0.0050, -0.0244,  0.0402, -0.0397, -0.0053, -0.0220,\n",
              "         -0.0305, -0.0113,  0.0178,  0.0199, -0.0381, -0.0313, -0.0174, -0.0326,\n",
              "         -0.0327,  0.0149, -0.0008,  0.0229, -0.0215, -0.0436, -0.0393, -0.0418,\n",
              "          0.0161, -0.0027, -0.0049,  0.0188,  0.0067, -0.0028, -0.0205, -0.0420,\n",
              "         -0.0212,  0.0231,  0.0250,  0.0232,  0.0398, -0.0310,  0.0053,  0.0042,\n",
              "         -0.0022,  0.0172,  0.0110,  0.0253,  0.0412,  0.0327,  0.0124,  0.0185,\n",
              "         -0.0165, -0.0321, -0.0356, -0.0103, -0.0328, -0.0276,  0.0097,  0.0187,\n",
              "          0.0181, -0.0252, -0.0428,  0.0262, -0.0048, -0.0275,  0.0306,  0.0218],\n",
              "        requires_grad=True),\n",
              " Parameter containing:\n",
              " tensor([[-0.0796,  0.0099,  0.0185,  ...,  0.0388,  0.0368, -0.0234],\n",
              "         [ 0.0626, -0.0025,  0.0312,  ..., -0.0323, -0.0280, -0.0390],\n",
              "         [ 0.0699,  0.0728, -0.0320,  ...,  0.0660,  0.0794,  0.0669],\n",
              "         ...,\n",
              "         [-0.0339,  0.0297, -0.0833,  ..., -0.0270, -0.0095, -0.0025],\n",
              "         [-0.0476, -0.0437, -0.0611,  ...,  0.0055,  0.0485,  0.0206],\n",
              "         [ 0.0040, -0.0243, -0.0346,  ...,  0.0783,  0.0555,  0.0526]],\n",
              "        requires_grad=True),\n",
              " Parameter containing:\n",
              " tensor([-0.0654,  0.0345, -0.0857, -0.0013,  0.0188,  0.0848, -0.0778, -0.0564,\n",
              "         -0.0472,  0.0114], requires_grad=True),\n",
              " Parameter containing:\n",
              " tensor([[-0.0190, -0.0154,  0.0191,  ..., -0.0280, -0.0168, -0.0049],\n",
              "         [-0.0029,  0.0302, -0.0045,  ...,  0.0250, -0.0202,  0.0158],\n",
              "         [ 0.0240,  0.0327,  0.0109,  ...,  0.0220, -0.0321,  0.0011],\n",
              "         ...,\n",
              "         [ 0.0130,  0.0245,  0.0230,  ...,  0.0309,  0.0205,  0.0251],\n",
              "         [-0.0162,  0.0324,  0.0174,  ..., -0.0104,  0.0292, -0.0082],\n",
              "         [-0.0101,  0.0307, -0.0235,  ..., -0.0010, -0.0265, -0.0031]],\n",
              "        requires_grad=True),\n",
              " Parameter containing:\n",
              " tensor([-0.0109,  0.0249,  0.0083,  0.0034,  0.0261,  0.0287, -0.0098, -0.0015,\n",
              "         -0.0352,  0.0138,  0.0104,  0.0200, -0.0209,  0.0243, -0.0078, -0.0145,\n",
              "         -0.0016, -0.0173, -0.0185,  0.0185, -0.0298,  0.0138, -0.0334, -0.0008,\n",
              "         -0.0328, -0.0036,  0.0142,  0.0093,  0.0054, -0.0035, -0.0165, -0.0161,\n",
              "         -0.0252, -0.0223,  0.0186,  0.0199, -0.0312,  0.0124,  0.0206, -0.0315,\n",
              "          0.0182,  0.0186, -0.0123, -0.0006, -0.0031,  0.0035, -0.0097,  0.0339,\n",
              "         -0.0139,  0.0038,  0.0336,  0.0203, -0.0132, -0.0019, -0.0050, -0.0286,\n",
              "         -0.0062,  0.0180, -0.0355,  0.0222,  0.0232,  0.0055,  0.0215, -0.0005,\n",
              "         -0.0118, -0.0102,  0.0228,  0.0336,  0.0087,  0.0040,  0.0153, -0.0179,\n",
              "         -0.0062, -0.0195, -0.0056, -0.0014,  0.0171,  0.0049,  0.0091, -0.0262,\n",
              "          0.0159, -0.0202, -0.0310, -0.0198,  0.0339,  0.0127,  0.0291, -0.0226,\n",
              "         -0.0297,  0.0013, -0.0162, -0.0297, -0.0279,  0.0180,  0.0149,  0.0333,\n",
              "         -0.0265, -0.0131,  0.0194,  0.0308], requires_grad=True),\n",
              " Parameter containing:\n",
              " tensor([[-0.0361,  0.0297, -0.0891,  ...,  0.0041, -0.0824, -0.0909],\n",
              "         [ 0.0541, -0.0923,  0.0624,  ..., -0.0801,  0.0700, -0.0275],\n",
              "         [ 0.0588,  0.0021, -0.0626,  ..., -0.0832,  0.0276,  0.0267],\n",
              "         ...,\n",
              "         [-0.0073, -0.0084,  0.0448,  ..., -0.0615,  0.0724, -0.0181],\n",
              "         [ 0.0238,  0.0436,  0.0387,  ...,  0.0347,  0.0713,  0.0878],\n",
              "         [ 0.0977,  0.0056, -0.0695,  ..., -0.0655, -0.0617,  0.0822]],\n",
              "        requires_grad=True),\n",
              " Parameter containing:\n",
              " tensor([-0.0310, -0.0949,  0.0117,  0.0065,  0.0331,  0.0337,  0.0144,  0.0169,\n",
              "          0.0712, -0.0301, -0.0331,  0.0881, -0.0523, -0.0255, -0.0322, -0.0965,\n",
              "          0.0500, -0.0874,  0.0061, -0.0129,  0.0009, -0.0726,  0.0113,  0.0271,\n",
              "         -0.0718, -0.0885, -0.0873, -0.0724,  0.0994,  0.0464,  0.0473,  0.0273,\n",
              "          0.0651, -0.0785, -0.0021,  0.0548,  0.0798,  0.0477,  0.0324,  0.0663,\n",
              "         -0.0249,  0.0945,  0.0901, -0.0080, -0.0571,  0.0005,  0.0079, -0.0554,\n",
              "          0.0077, -0.0491], requires_grad=True),\n",
              " Parameter containing:\n",
              " tensor([[ 2.8047e-02,  1.0308e-01,  1.0682e-01,  1.2948e-02,  1.3711e-01,\n",
              "          -7.1035e-02, -2.4375e-02, -6.0449e-02, -2.0857e-02, -6.6759e-02,\n",
              "           4.7490e-02,  1.1204e-01,  5.2611e-02, -1.4497e-03,  8.0291e-02,\n",
              "          -1.2102e-01, -5.0956e-02, -5.3230e-02,  9.0059e-02, -5.4646e-02,\n",
              "          -1.0964e-02,  4.2918e-02,  1.1038e-01,  1.3532e-01, -7.4950e-02,\n",
              "           7.9434e-02, -1.9926e-02,  5.6480e-02,  2.0557e-02, -6.1399e-02,\n",
              "           1.1073e-01, -1.0021e-01, -1.0475e-01,  7.8410e-03,  6.3879e-03,\n",
              "          -6.4288e-02,  4.2340e-02, -9.0316e-02, -7.0188e-02,  1.0818e-01,\n",
              "          -1.1003e-01, -6.8573e-02,  1.3880e-01,  2.6342e-02,  1.2864e-01,\n",
              "          -2.4702e-02, -7.4133e-02, -5.6664e-02, -5.7956e-02,  2.0638e-02],\n",
              "         [-1.3799e-01,  1.2764e-01,  1.9237e-02, -7.0547e-02,  8.6264e-02,\n",
              "          -1.1842e-02,  1.3635e-02,  4.0694e-02,  1.3154e-02, -1.0107e-01,\n",
              "          -4.2170e-02, -5.2537e-02, -2.3736e-02, -4.1333e-02,  3.7096e-03,\n",
              "           1.3899e-01, -5.4965e-02,  9.6009e-02, -4.2964e-02,  3.2647e-02,\n",
              "          -9.3000e-02, -6.0228e-02, -7.8228e-02,  1.1495e-01, -8.9157e-02,\n",
              "           1.2720e-01,  8.9184e-02,  8.2252e-03,  3.0925e-02,  1.0168e-01,\n",
              "          -9.7983e-04, -7.0663e-03,  1.4603e-02,  7.1708e-02, -9.8260e-02,\n",
              "          -2.9005e-02,  6.4795e-02, -8.6260e-02,  5.7872e-02, -3.8372e-02,\n",
              "          -4.6521e-02,  6.5132e-02, -3.5975e-02,  6.8798e-02,  9.7469e-03,\n",
              "           7.9890e-02,  2.6338e-02, -7.3549e-02, -8.4372e-02,  3.5135e-02],\n",
              "         [-1.4932e-02, -5.2109e-02, -9.7886e-03,  3.7898e-03,  7.2086e-02,\n",
              "           4.5772e-02,  4.0885e-03,  7.8595e-02,  7.4041e-02,  7.5313e-02,\n",
              "          -3.9705e-02,  9.3036e-02,  1.2343e-01,  1.0701e-01, -5.3386e-02,\n",
              "           3.5278e-02, -4.1103e-02, -9.7327e-02,  9.8946e-02,  1.8996e-02,\n",
              "          -6.4712e-02,  4.4798e-03, -1.0609e-01,  9.1922e-02, -1.3927e-01,\n",
              "           1.2848e-01, -1.0746e-01, -5.4054e-02, -1.0824e-01,  1.1176e-01,\n",
              "           1.2374e-01, -6.4165e-02,  1.0377e-01,  1.1894e-01,  1.3278e-01,\n",
              "          -2.0388e-03, -9.2053e-02,  8.7022e-02,  1.0850e-01, -4.5101e-02,\n",
              "          -1.2932e-01, -1.3171e-01,  3.4749e-02, -1.2336e-01, -5.2637e-02,\n",
              "          -4.1986e-02,  5.4246e-02,  2.0301e-02,  1.4266e-02, -1.1312e-01],\n",
              "         [ 9.1781e-02,  5.0147e-02, -4.8796e-02,  1.9112e-02, -3.1757e-02,\n",
              "          -1.0113e-01, -6.1576e-02, -8.4796e-02,  4.4003e-02,  1.8424e-02,\n",
              "           9.2782e-02, -5.6206e-02,  1.3128e-01,  4.1648e-03, -1.1027e-01,\n",
              "           1.0332e-01,  1.0980e-01,  1.1429e-01,  1.3302e-01, -2.1464e-02,\n",
              "          -1.0457e-01, -5.2578e-02,  1.5460e-02,  7.5734e-02, -1.3775e-01,\n",
              "           6.7534e-02,  7.7981e-02, -7.3666e-02,  7.1611e-02, -7.8843e-02,\n",
              "           1.0898e-02,  1.1078e-01, -4.5998e-03, -9.1453e-02,  5.2899e-02,\n",
              "           6.6844e-02,  5.4177e-02,  4.2237e-02, -1.1247e-01, -8.6810e-02,\n",
              "           6.3183e-02, -6.1867e-02, -8.9656e-02, -2.3898e-02, -3.4347e-02,\n",
              "           4.4317e-02, -9.1379e-02, -1.1746e-02, -6.0389e-02,  6.9134e-02],\n",
              "         [-1.3831e-01, -7.2526e-02,  1.1880e-01, -8.1489e-02, -1.2270e-02,\n",
              "           8.2086e-02, -7.6398e-02, -6.5041e-02,  1.7848e-03, -8.4658e-02,\n",
              "           1.2970e-01, -1.2180e-01,  1.0550e-04, -7.6293e-02, -1.3594e-01,\n",
              "           1.2381e-01, -6.2789e-02, -4.1959e-02,  6.1601e-02,  2.1992e-02,\n",
              "          -5.5279e-02,  8.1436e-02, -6.9004e-02,  6.4498e-02, -1.0806e-01,\n",
              "          -7.1523e-02,  2.2421e-02,  5.2352e-02, -2.0038e-02,  4.4749e-02,\n",
              "          -1.1565e-01,  3.8988e-02,  9.9613e-02,  4.8182e-02,  5.8370e-02,\n",
              "           1.3054e-01, -1.1589e-01, -2.7468e-02, -9.7600e-02, -1.2914e-01,\n",
              "          -1.6563e-02, -2.6437e-02, -6.5888e-02, -1.3109e-02,  1.0088e-01,\n",
              "           1.2700e-01,  1.3189e-02,  1.0038e-01, -1.1779e-01,  9.2555e-02],\n",
              "         [-1.2675e-02,  8.3799e-02, -8.0113e-02,  1.1075e-01,  6.9084e-02,\n",
              "           1.2521e-01,  9.8698e-02, -4.9060e-02,  6.0364e-02, -4.5149e-02,\n",
              "           8.7418e-02,  1.2233e-01, -6.0041e-02,  6.6996e-02,  7.0235e-02,\n",
              "           6.2207e-04, -1.0713e-01,  2.6877e-02,  7.8144e-02, -3.7537e-02,\n",
              "           1.1298e-01, -9.6591e-02, -6.1599e-02, -5.1493e-02, -3.5114e-02,\n",
              "          -5.2620e-02, -1.0389e-01,  1.5670e-02,  3.3766e-02, -1.2146e-01,\n",
              "           1.2323e-01, -8.3236e-02,  5.3363e-02, -1.1202e-01,  1.3724e-01,\n",
              "          -4.7134e-02, -6.2819e-02,  1.3094e-02, -9.9401e-02,  1.1372e-01,\n",
              "           6.5146e-02,  1.3197e-01,  1.1634e-01,  4.1886e-02, -1.0252e-01,\n",
              "           1.0770e-01, -1.0186e-01, -8.6016e-02, -1.1191e-01,  1.3810e-01],\n",
              "         [ 1.2303e-01, -6.6127e-02, -2.1468e-02, -1.2742e-02, -1.2336e-01,\n",
              "           1.1817e-01, -1.1918e-01, -8.2202e-02,  1.2983e-01,  1.2148e-01,\n",
              "           1.9501e-02, -4.2669e-02, -1.3829e-01,  1.0327e-01,  6.9170e-02,\n",
              "          -1.0288e-01, -6.2431e-02, -8.7615e-02, -5.2686e-02,  2.7263e-02,\n",
              "          -1.3278e-01,  2.6754e-02,  1.0929e-01, -1.3664e-01,  1.0315e-01,\n",
              "          -7.2592e-03,  1.7718e-02,  1.3669e-02, -1.2771e-01, -9.4885e-02,\n",
              "          -1.2855e-01, -5.5863e-02, -9.3605e-03,  1.2370e-01,  4.3389e-02,\n",
              "           3.6933e-02, -8.8845e-02,  2.1515e-02,  9.7073e-02,  1.0268e-01,\n",
              "          -1.4013e-01, -1.0066e-01,  1.9815e-02, -1.3099e-01, -4.0661e-02,\n",
              "          -3.7347e-02, -6.2669e-02,  7.6505e-02,  1.1385e-01, -1.3003e-01],\n",
              "         [-3.1568e-02, -4.0288e-02, -1.2854e-01, -4.1656e-02,  1.0723e-01,\n",
              "          -4.7236e-02, -2.6961e-02, -9.7388e-02, -9.6753e-03,  3.9477e-02,\n",
              "          -1.2052e-01,  8.4093e-02, -1.3222e-01, -1.2960e-01, -1.0669e-01,\n",
              "           5.4017e-02,  1.1334e-01,  1.1417e-01, -1.9962e-02,  1.6191e-02,\n",
              "           5.8425e-02, -1.2230e-01, -1.3320e-01, -4.3808e-02,  9.0973e-02,\n",
              "          -8.8894e-02,  3.4706e-02, -9.1199e-02,  3.5910e-02, -8.7284e-02,\n",
              "          -2.3099e-02, -4.5125e-02,  2.2348e-03, -7.8989e-02, -5.5226e-02,\n",
              "           5.0885e-02, -1.3103e-01, -1.1981e-02,  1.3404e-01, -1.5133e-02,\n",
              "           4.8105e-02,  4.8308e-02,  4.0390e-02, -4.0350e-02, -8.2530e-02,\n",
              "          -9.3887e-02,  9.4599e-02,  2.9644e-02,  8.1336e-02, -7.6192e-02],\n",
              "         [ 1.0271e-01, -2.0138e-02,  1.1973e-01,  4.0115e-02, -2.5513e-02,\n",
              "          -3.5750e-02, -8.2936e-02,  8.6786e-02,  5.2856e-02,  1.5668e-02,\n",
              "          -1.0667e-01,  1.1782e-01,  2.9309e-04,  1.0503e-01, -1.1172e-01,\n",
              "           4.4035e-02,  9.3443e-04, -1.0428e-01, -6.5577e-02, -3.5352e-02,\n",
              "          -4.5138e-02,  1.1619e-04,  3.9646e-02, -5.5322e-02,  2.1098e-02,\n",
              "          -1.4080e-01,  1.3943e-01, -9.7350e-02, -1.0592e-01,  1.2458e-01,\n",
              "          -1.3840e-01,  5.5861e-02,  1.9146e-02,  5.0465e-02, -1.3682e-01,\n",
              "           1.3302e-02, -9.9681e-02, -1.0941e-01,  5.5874e-02,  1.3580e-01,\n",
              "          -1.1720e-01,  8.2787e-02, -5.5997e-03, -5.5825e-02,  7.2918e-02,\n",
              "          -9.2824e-02,  1.3146e-01, -7.4125e-02, -1.3984e-01,  9.3241e-02],\n",
              "         [-9.0022e-02,  1.3652e-01,  7.4814e-02,  3.3862e-02,  1.1510e-01,\n",
              "           3.1623e-02, -2.0865e-02, -8.7613e-02, -1.1010e-01,  7.7906e-02,\n",
              "           8.7717e-02, -6.7798e-02, -6.6245e-02, -7.9440e-02, -6.0366e-02,\n",
              "          -1.2594e-01, -1.2217e-01,  3.4433e-02, -1.1167e-01, -2.8466e-02,\n",
              "          -2.7865e-02, -1.2895e-02, -1.1271e-01, -9.7596e-02, -1.2753e-01,\n",
              "          -9.8799e-02, -7.2501e-02,  1.9245e-02,  3.5981e-02, -5.9026e-02,\n",
              "          -9.7742e-02, -8.9333e-02, -5.5947e-02, -1.1784e-01, -5.4193e-02,\n",
              "          -1.2644e-01,  9.2319e-03, -5.3688e-02,  1.1472e-01,  7.1656e-02,\n",
              "          -1.2954e-01,  3.5054e-02,  2.6160e-03, -4.1747e-02, -5.0188e-02,\n",
              "           8.4237e-02, -1.4033e-01,  1.5873e-02, -6.2394e-02,  1.2427e-01]],\n",
              "        requires_grad=True),\n",
              " Parameter containing:\n",
              " tensor([-0.0666,  0.0514,  0.0933,  0.0317,  0.0797, -0.0927,  0.1228,  0.0303,\n",
              "         -0.1199,  0.0563], requires_grad=True)]"
            ]
          },
          "metadata": {},
          "execution_count": 8
        }
      ],
      "source": [
        "class MnistModel(nn.Module):\n",
        "\n",
        "    def __init__(self):\n",
        "\n",
        "        super().__init__()\n",
        "        self.linear1 = nn.Linear(input_size, 500)\n",
        "        self.relu1 = nn.ReLU()\n",
        "        self.linear2 = nn.Linear(500, 128)\n",
        "        self.relu2 = nn.ReLU()\n",
        "        self.linear3 = nn.Linear(128, num_classes)\n",
        "        self.layers = nn.Sequential(\n",
        "            nn.Linear1(input_size, 100),\n",
        "            nn.ReLU(),\n",
        "            nn.Linear(100, 50),\n",
        "            nn.ReLU(),\n",
        "            nn.Linear(50, num_classes),\n",
        "            nn.Sigmoid()  # You can use nn.Softmax(dim=1) instead for multi-class classification.\n",
        "        )\n",
        "        #nn.Sequential(OrderedDict([\n",
        "\n",
        "\n",
        "\n",
        "\n",
        "    def forward(self, xb):\n",
        "        xb = xb.reshape(-1, 784)\n",
        "        out = self.linear1(xb)\n",
        "        out = self.relu1(out)\n",
        "        out = self.linear2(out)\n",
        "        out=self.relu2(out)\n",
        "        out=self.linear3(out)\n",
        "        return out\n",
        "\n",
        "model = MnistModel()\n",
        "print(model.linear1.weight.shape, model.linear1.bias.shape)\n",
        "list(model.parameters())"
      ]
    },
    {
      "cell_type": "code",
      "execution_count": 9,
      "metadata": {
        "colab": {
          "base_uri": "https://localhost:8080/"
        },
        "id": "aRLEvD0-wHx9",
        "outputId": "061ac3c5-81f5-4341-b0e0-282e36196906"
      },
      "outputs": [
        {
          "output_type": "stream",
          "name": "stdout",
          "text": [
            "outputs shape:  torch.Size([128, 10])\n",
            "Sample outputs: \n",
            " tensor([[-0.0502,  0.0316, -0.1546,  0.0402, -0.0019,  0.1496, -0.0256, -0.0540,\n",
            "         -0.0319,  0.0622],\n",
            "        [-0.0144,  0.0231, -0.1000,  0.0383,  0.0290,  0.1204,  0.0170, -0.0944,\n",
            "         -0.0186,  0.0461]])\n"
          ]
        }
      ],
      "source": [
        "for images, labels in train_loader:\n",
        "    outputs = model(images)\n",
        "    break\n",
        "\n",
        "print('outputs shape: ', outputs.shape)\n",
        "print('Sample outputs: \\n', outputs[:2].data)"
      ]
    },
    {
      "cell_type": "code",
      "execution_count": 10,
      "metadata": {
        "colab": {
          "base_uri": "https://localhost:8080/"
        },
        "id": "j7u-1q2twHx9",
        "outputId": "7a7df0b6-fc17-4271-9a4a-49c48d42f67e"
      },
      "outputs": [
        {
          "output_type": "stream",
          "name": "stdout",
          "text": [
            "Sample probabilities:\n",
            " tensor([[0.0952, 0.1033, 0.0857, 0.1041, 0.0999, 0.1162, 0.0975, 0.0948, 0.0969,\n",
            "         0.1065],\n",
            "        [0.0979, 0.1017, 0.0899, 0.1032, 0.1023, 0.1121, 0.1010, 0.0904, 0.0975,\n",
            "         0.1040]])\n",
            "\n",
            "\n",
            "Sum:  0.9999998807907104\n",
            "\n",
            "\n",
            "tensor([5, 5, 9, 5, 5, 5, 5, 5, 5, 5, 5, 5, 5, 5, 5, 5, 5, 9, 5, 9, 5, 5, 5, 5,\n",
            "        5, 5, 5, 9, 5, 5, 5, 5, 9, 5, 5, 5, 5, 5, 5, 5, 5, 5, 5, 5, 5, 5, 5, 5,\n",
            "        5, 5, 5, 5, 5, 5, 5, 5, 5, 5, 9, 9, 5, 5, 5, 5, 5, 9, 5, 5, 5, 5, 5, 5,\n",
            "        5, 5, 5, 5, 9, 5, 5, 5, 5, 5, 5, 5, 5, 5, 5, 5, 5, 5, 5, 5, 5, 5, 5, 5,\n",
            "        5, 5, 5, 5, 5, 9, 5, 5, 5, 5, 5, 5, 9, 5, 5, 5, 5, 5, 5, 5, 5, 9, 5, 5,\n",
            "        5, 9, 9, 5, 5, 5, 9, 5])\n",
            "\n",
            "\n",
            "tensor([0.1162, 0.1121, 0.1079, 0.1105, 0.1068, 0.1188, 0.1111, 0.1093, 0.1134,\n",
            "        0.1123, 0.1108, 0.1112, 0.1102, 0.1118, 0.1081, 0.1089, 0.1100, 0.1094,\n",
            "        0.1094, 0.1065, 0.1100, 0.1138, 0.1142, 0.1090, 0.1112, 0.1066, 0.1104,\n",
            "        0.1077, 0.1099, 0.1127, 0.1138, 0.1115, 0.1085, 0.1130, 0.1100, 0.1101,\n",
            "        0.1101, 0.1103, 0.1098, 0.1113, 0.1074, 0.1150, 0.1104, 0.1108, 0.1132,\n",
            "        0.1087, 0.1105, 0.1099, 0.1103, 0.1084, 0.1093, 0.1123, 0.1124, 0.1096,\n",
            "        0.1112, 0.1123, 0.1083, 0.1115, 0.1096, 0.1092, 0.1103, 0.1131, 0.1119,\n",
            "        0.1106, 0.1150, 0.1100, 0.1113, 0.1068, 0.1084, 0.1102, 0.1084, 0.1110,\n",
            "        0.1104, 0.1135, 0.1100, 0.1094, 0.1088, 0.1094, 0.1100, 0.1102, 0.1112,\n",
            "        0.1098, 0.1097, 0.1083, 0.1082, 0.1114, 0.1094, 0.1105, 0.1073, 0.1101,\n",
            "        0.1104, 0.1100, 0.1105, 0.1127, 0.1104, 0.1124, 0.1114, 0.1133, 0.1081,\n",
            "        0.1137, 0.1119, 0.1075, 0.1071, 0.1124, 0.1135, 0.1119, 0.1117, 0.1116,\n",
            "        0.1068, 0.1109, 0.1127, 0.1105, 0.1115, 0.1110, 0.1106, 0.1094, 0.1131,\n",
            "        0.1071, 0.1132, 0.1146, 0.1119, 0.1092, 0.1096, 0.1091, 0.1104, 0.1110,\n",
            "        0.1081, 0.1123], grad_fn=<MaxBackward0>)\n"
          ]
        }
      ],
      "source": [
        "probs = F.softmax(outputs, dim = 1)\n",
        "\n",
        "## chaecking at sample probabilities\n",
        "print(\"Sample probabilities:\\n\", probs[:2].data)\n",
        "\n",
        "print(\"\\n\")\n",
        "## Add up the probabilities of an output row\n",
        "print(\"Sum: \", torch.sum(probs[0]).item())\n",
        "max_probs, preds = torch.max(probs, dim = 1)\n",
        "print(\"\\n\")\n",
        "print(preds)\n",
        "print(\"\\n\")\n",
        "print(max_probs)"
      ]
    },
    {
      "cell_type": "code",
      "execution_count": 11,
      "metadata": {
        "colab": {
          "base_uri": "https://localhost:8080/"
        },
        "id": "RRrB0St2wHx9",
        "outputId": "e7d42822-1b5e-4e15-c4e6-fa93289348e0"
      },
      "outputs": [
        {
          "output_type": "stream",
          "name": "stdout",
          "text": [
            "Accuracy:  tensor(0.0859)\n",
            "\n",
            "\n",
            "Loss Function:  <function cross_entropy at 0x7a774c267910>\n",
            "\n",
            "\n",
            "tensor(2.3012, grad_fn=<NllLossBackward0>)\n"
          ]
        }
      ],
      "source": [
        "def accuracy(outputs, labels):\n",
        "    _, preds = torch.max(outputs, dim = 1)\n",
        "    return(torch.tensor(torch.sum(preds == labels).item()/ len(preds)))\n",
        "\n",
        "print(\"Accuracy: \",accuracy(outputs, labels))\n",
        "print(\"\\n\")\n",
        "loss_fn = F.cross_entropy\n",
        "print(\"Loss Function: \",loss_fn)\n",
        "print(\"\\n\")\n",
        "## Loss for the current batch\n",
        "loss = loss_fn(outputs, labels)\n",
        "print(loss)"
      ]
    },
    {
      "cell_type": "code",
      "execution_count": 26,
      "metadata": {
        "id": "s8X4I6GCwHx-"
      },
      "outputs": [],
      "source": [
        "class MnistModel(nn.Module):\n",
        "    def __init__(self):\n",
        "        super().__init__()\n",
        "        self.linear1 = nn.Linear(input_size, 500)\n",
        "        self.relu1 = nn.ReLU()\n",
        "        self.linear2 = nn.Linear(500, 128)\n",
        "        self.relu2 = nn.ReLU()\n",
        "        self.linear3 = nn.Linear(128, num_classes)\n",
        "        self.layers = nn.Sequential(\n",
        "            nn.Linear(input_size, 500),\n",
        "            nn.ReLU(),\n",
        "            nn.Linear(500, 128),\n",
        "            nn.ReLU(),\n",
        "            nn.Linear(128, num_classes),\n",
        "            nn.Sigmoid()  # You can use nn.Softmax(dim=1) instead for multi-class classification.\n",
        "        )\n",
        "    def forward(self, xb):\n",
        "        xb = xb.reshape(-1, 784)\n",
        "        out = self.linear1(xb)\n",
        "        out = self.relu1(out)\n",
        "        out = self.linear2(out)\n",
        "        out=self.relu2(out)\n",
        "        out=self.linear3(out)\n",
        "        return(out)\n",
        "     #is invoked when we pass a batch of inputs to the model, we flatten out the input tensor, and then pass it into self.linear.\n",
        "\n",
        "    def training_step(self, batch):\n",
        "        images, labels = batch\n",
        "        out = self(images) ## Generate predictions\n",
        "        loss = F.cross_entropy(out, labels) ## Calculate the loss\n",
        "        return(loss)\n",
        "\n",
        "    def validation_step(self, batch):\n",
        "        images, labels = batch\n",
        "        out = self(images)\n",
        "        loss = F.cross_entropy(out, labels)\n",
        "        acc = accuracy(out, labels)\n",
        "        return({'val_loss':loss, 'val_acc': acc})\n",
        "\n",
        "    def validation_epoch_end(self, outputs):\n",
        "        batch_losses = [x['val_loss'] for x in outputs]\n",
        "        epoch_loss = torch.stack(batch_losses).mean()\n",
        "        batch_accs = [x['val_acc'] for x in outputs]\n",
        "        epoch_acc = torch.stack(batch_accs).mean()\n",
        "        return({'val_loss': epoch_loss.item(), 'val_acc' : epoch_acc.item()})\n",
        "\n",
        "    def epoch_end(self, epoch,result):\n",
        "        print(\"Epoch [{}], val_loss: {:.4f}, val_acc: {:.4f}\".format(epoch, result['val_loss'], result['val_acc']))\n",
        "\n",
        "\n",
        "model = MnistModel()"
      ]
    },
    {
      "cell_type": "code",
      "execution_count": 27,
      "metadata": {
        "id": "qjA8on7WwHx-"
      },
      "outputs": [],
      "source": [
        "def evaluate(model, val_loader):\n",
        "    outputs = [model.validation_step(batch) for batch in val_loader]\n",
        "    return(model.validation_epoch_end(outputs))\n",
        "\n",
        "def fit(epochs, lr, model, train_loader, val_loader, opt_func = torch.optim.SGD):\n",
        "    history = []\n",
        "    optimizer = opt_func(model.parameters(), lr)\n",
        "    for epoch in range(epochs):\n",
        "\n",
        "        ## Training Phas\n",
        "        for batch in train_loader:\n",
        "            loss = model.training_step(batch)\n",
        "            loss.backward()\n",
        "            optimizer.step()\n",
        "            optimizer.zero_grad()\n",
        "\n",
        "        ## Validation phase\n",
        "        result = evaluate(model, val_loader)\n",
        "        model.epoch_end(epoch, result)\n",
        "        history.append(result)\n",
        "    return(history)"
      ]
    },
    {
      "cell_type": "code",
      "execution_count": 28,
      "metadata": {
        "colab": {
          "base_uri": "https://localhost:8080/"
        },
        "id": "E-Ny_z4WwHx-",
        "outputId": "f8704e4b-841a-415e-ae66-0216a65af81a"
      },
      "outputs": [
        {
          "output_type": "execute_result",
          "data": {
            "text/plain": [
              "{'val_loss': 2.3080437183380127, 'val_acc': 0.06487341970205307}"
            ]
          },
          "metadata": {},
          "execution_count": 28
        }
      ],
      "source": [
        "result0 = evaluate(model, val_loader)\n",
        "result0"
      ]
    },
    {
      "cell_type": "code",
      "execution_count": 31,
      "metadata": {
        "colab": {
          "base_uri": "https://localhost:8080/"
        },
        "id": "YRN7o0SMwHx-",
        "outputId": "1e33ee6c-5547-4449-86e8-d54a5c1b04cf"
      },
      "outputs": [
        {
          "output_type": "stream",
          "name": "stdout",
          "text": [
            "Epoch [0], val_loss: 1.0524, val_acc: 0.7617\n",
            "Epoch [1], val_loss: 0.6245, val_acc: 0.8346\n",
            "Epoch [2], val_loss: 0.4913, val_acc: 0.8686\n",
            "Epoch [3], val_loss: 0.4293, val_acc: 0.8820\n",
            "Epoch [4], val_loss: 0.3925, val_acc: 0.8891\n",
            "Epoch [5], val_loss: 0.3671, val_acc: 0.8975\n",
            "Epoch [0], val_loss: 0.3490, val_acc: 0.9005\n",
            "Epoch [1], val_loss: 0.3339, val_acc: 0.9044\n",
            "Epoch [2], val_loss: 0.3224, val_acc: 0.9083\n",
            "Epoch [3], val_loss: 0.3115, val_acc: 0.9105\n",
            "Epoch [4], val_loss: 0.3020, val_acc: 0.9124\n",
            "Epoch [5], val_loss: 0.2926, val_acc: 0.9152\n",
            "Epoch [0], val_loss: 0.2862, val_acc: 0.9156\n",
            "Epoch [1], val_loss: 0.2768, val_acc: 0.9186\n",
            "Epoch [2], val_loss: 0.2706, val_acc: 0.9207\n",
            "Epoch [3], val_loss: 0.2629, val_acc: 0.9243\n",
            "Epoch [4], val_loss: 0.2566, val_acc: 0.9249\n",
            "Epoch [5], val_loss: 0.2500, val_acc: 0.9274\n",
            "Epoch [0], val_loss: 0.2435, val_acc: 0.9302\n",
            "Epoch [1], val_loss: 0.2385, val_acc: 0.9306\n",
            "Epoch [2], val_loss: 0.2330, val_acc: 0.9337\n",
            "Epoch [3], val_loss: 0.2267, val_acc: 0.9357\n",
            "Epoch [4], val_loss: 0.2218, val_acc: 0.9364\n",
            "Epoch [5], val_loss: 0.2169, val_acc: 0.9384\n",
            "Epoch [0], val_loss: 0.2116, val_acc: 0.9393\n",
            "Epoch [1], val_loss: 0.2074, val_acc: 0.9410\n",
            "Epoch [2], val_loss: 0.2037, val_acc: 0.9415\n",
            "Epoch [3], val_loss: 0.1982, val_acc: 0.9430\n",
            "Epoch [4], val_loss: 0.1938, val_acc: 0.9448\n",
            "Epoch [5], val_loss: 0.1900, val_acc: 0.9461\n",
            "Epoch [0], val_loss: 0.1870, val_acc: 0.9459\n",
            "Epoch [1], val_loss: 0.1836, val_acc: 0.9473\n",
            "Epoch [2], val_loss: 0.1787, val_acc: 0.9490\n",
            "Epoch [3], val_loss: 0.1753, val_acc: 0.9488\n",
            "Epoch [4], val_loss: 0.1732, val_acc: 0.9497\n",
            "Epoch [5], val_loss: 0.1692, val_acc: 0.9506\n"
          ]
        }
      ],
      "source": [
        "history1 = fit(6, 0.01, model, train_loader, val_loader)\n",
        "history2 = fit(6, 0.01, model, train_loader, val_loader)\n",
        "history3 = fit(6, 0.01, model, train_loader, val_loader)\n",
        "history4 = fit(6, 0.01, model, train_loader, val_loader)\n",
        "history5 = fit(6, 0.01, model, train_loader, val_loader)\n",
        "history6 = fit(6, 0.01, model, train_loader, val_loader)\n",
        "## Replace these values with your result\n",
        "history = [result0] + history1 + history2 + history3 + history4 + history5 + history6\n",
        "accuracies = [result['val_acc'] for result in history]\n"
      ]
    },
    {
      "cell_type": "code",
      "source": [
        "plt.plot(accuracies, '-x')\n",
        "plt.xlabel('epoch')\n",
        "plt.ylabel('accuracy')\n",
        "plt.title('Accuracy Vs. No. of epochs')\n",
        "\n",
        "\n"
      ],
      "metadata": {
        "id": "nBzhupcty1Cd"
      },
      "execution_count": null,
      "outputs": []
    }
  ],
  "metadata": {
    "kernelspec": {
      "display_name": "Python 3",
      "language": "python",
      "name": "python3"
    },
    "language_info": {
      "codemirror_mode": {
        "name": "ipython",
        "version": 3
      },
      "file_extension": ".py",
      "mimetype": "text/x-python",
      "name": "python",
      "nbconvert_exporter": "python",
      "pygments_lexer": "ipython3",
      "version": "3.11.4"
    },
    "orig_nbformat": 4,
    "colab": {
      "provenance": [],
      "include_colab_link": true
    }
  },
  "nbformat": 4,
  "nbformat_minor": 0
}